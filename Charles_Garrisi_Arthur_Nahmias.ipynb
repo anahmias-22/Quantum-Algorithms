{
 "cells": [
  {
   "cell_type": "markdown",
   "metadata": {},
   "source": [
    "## NEW CODE "
   ]
  },
  {
   "cell_type": "code",
   "execution_count": 40,
   "metadata": {},
   "outputs": [
    {
     "name": "stdout",
     "output_type": "stream",
     "text": [
      "Requirement already satisfied: psutil in /Users/arthur/opt/anaconda3/lib/python3.9/site-packages (5.8.0)\n",
      "Requirement already satisfied: pylatexenc in /Users/arthur/opt/anaconda3/lib/python3.9/site-packages (2.10)\n",
      "Requirement already satisfied: MatPlotLib in /Users/arthur/opt/anaconda3/lib/python3.9/site-packages (3.5.1)\n",
      "Requirement already satisfied: fonttools>=4.22.0 in /Users/arthur/opt/anaconda3/lib/python3.9/site-packages (from MatPlotLib) (4.25.0)\n",
      "Requirement already satisfied: pyparsing>=2.2.1 in /Users/arthur/opt/anaconda3/lib/python3.9/site-packages (from MatPlotLib) (3.0.4)\n",
      "Requirement already satisfied: numpy>=1.17 in /Users/arthur/opt/anaconda3/lib/python3.9/site-packages (from MatPlotLib) (1.23.5)\n",
      "Requirement already satisfied: pillow>=6.2.0 in /Users/arthur/opt/anaconda3/lib/python3.9/site-packages (from MatPlotLib) (9.0.1)\n",
      "Requirement already satisfied: python-dateutil>=2.7 in /Users/arthur/opt/anaconda3/lib/python3.9/site-packages (from MatPlotLib) (2.8.2)\n",
      "Requirement already satisfied: packaging>=20.0 in /Users/arthur/opt/anaconda3/lib/python3.9/site-packages (from MatPlotLib) (21.3)\n",
      "Requirement already satisfied: kiwisolver>=1.0.1 in /Users/arthur/opt/anaconda3/lib/python3.9/site-packages (from MatPlotLib) (1.3.2)\n",
      "Requirement already satisfied: cycler>=0.10 in /Users/arthur/opt/anaconda3/lib/python3.9/site-packages (from MatPlotLib) (0.11.0)\n",
      "Requirement already satisfied: six>=1.5 in /Users/arthur/opt/anaconda3/lib/python3.9/site-packages (from python-dateutil>=2.7->MatPlotLib) (1.12.0)\n"
     ]
    }
   ],
   "source": [
    "!pip install psutil\n",
    "!pip install pylatexenc\n",
    "!pip install MatPlotLib"
   ]
  },
  {
   "cell_type": "markdown",
   "metadata": {},
   "source": [
    "# Quantum Amplitude Estimator Algorithm "
   ]
  },
  {
   "cell_type": "markdown",
   "metadata": {},
   "source": [
    "The details of this algorithm is detailed in the report"
   ]
  },
  {
   "cell_type": "code",
   "execution_count": 2,
   "metadata": {},
   "outputs": [
    {
     "name": "stderr",
     "output_type": "stream",
     "text": [
      "INFO:qiskit.passmanager.base_tasks:Pass: UnrollCustomDefinitions - 0.25296 (ms)\n",
      "INFO:qiskit.passmanager.base_tasks:Pass: BasisTranslator - 2.06208 (ms)\n"
     ]
    }
   ],
   "source": [
    "\n",
    "import numpy as np\n",
    "import matplotlib.pyplot as plt\n",
    "import pandas as pd\n",
    "import scipy.stats as stats\n",
    "from qiskit import QuantumCircuit, transpile\n",
    "from qiskit_algorithms import IterativeAmplitudeEstimation, EstimationProblem\n",
    "from qiskit.circuit.library import LinearAmplitudeFunction\n",
    "from qiskit_aer.primitives import Sampler\n",
    "from qiskit_finance.circuit.library import LogNormalDistribution\n",
    "from qiskit_aer import AerSimulator\n",
    "import time\n",
    "import logging\n",
    "import psutil\n",
    "\n",
    "logging.basicConfig(level=logging.INFO)\n",
    "\n",
    "def log_memory_usage(stage):\n",
    "    memory = psutil.virtual_memory()\n",
    "    logging.info(f\"{stage} - Memory usage: {memory.percent}%\")\n",
    "\n",
    "# Define Black-Scholes Parameters\n",
    "S, vol, r, T, strike_price = 2, 0.1, 0.04, 300 / 365, 2\n",
    "mu, sigma = (r - 0.5 * vol**2) * T + np.log(S), vol * np.sqrt(T)\n",
    "mean = np.exp(mu + sigma**2 / 2)\n",
    "variance = (np.exp(sigma**2) - 1) * np.exp(2 * mu + sigma**2)\n",
    "stddev = np.sqrt(variance)\n",
    "low, high = np.maximum(0, mean - 3 * stddev), mean + 3 * stddev\n",
    "\n",
    "# Simulate Log-Normal Distribution\n",
    "num_uncertainty_qubits = 3  # Start with 3 qubits for stability\n",
    "uncertainty_model = LogNormalDistribution(\n",
    "    num_uncertainty_qubits, mu=mu, sigma=sigma**2, bounds=(low, high)\n",
    ")\n",
    "\n",
    "#  Define the Payoff Function\n",
    "c_approx = np.sqrt(2) * 2**(-num_uncertainty_qubits / 3)\n",
    "breakpoints = [low, strike_price]\n",
    "slopes = [0, 1]\n",
    "offsets = [0, 0]\n",
    "f_min, f_max = 0, high - strike_price\n",
    "european_call_objective = LinearAmplitudeFunction(\n",
    "    num_uncertainty_qubits,\n",
    "    slopes,\n",
    "    offsets,\n",
    "    domain=(low, high),\n",
    "    image=(f_min, f_max),\n",
    "    breakpoints=breakpoints,\n",
    "    rescaling_factor=c_approx,\n",
    ")"
   ]
  },
  {
   "cell_type": "code",
   "execution_count": 3,
   "metadata": {},
   "outputs": [
    {
     "data": {
      "image/png": "[encoded data removed]",
      "text/plain": [
       "<Figure size 432x288 with 1 Axes>"
      ]
     },
     "metadata": {
      "needs_background": "light"
     },
     "output_type": "display_data"
    }
   ],
   "source": [
    "# Plot exact payoff function\n",
    "payoff = np.maximum(0, uncertainty_model.values - strike_price)\n",
    "plt.plot(uncertainty_model.values, payoff, \"ro-\")\n",
    "plt.grid()\n",
    "plt.xlabel(\"Spot Price $S_T$\")\n",
    "plt.ylabel(\"Payoff\")\n",
    "plt.title(\"Exact Payoff Function for European Call Option\")\n",
    "plt.show()\n",
    "\n"
   ]
  },
  {
   "cell_type": "code",
   "execution_count": 4,
   "metadata": {},
   "outputs": [],
   "source": [
    "#  Multilevel Framework\n",
    "levels, num_paths = 5, 1000\n",
    "M = [2**l for l in range(levels)]\n",
    "\n",
    "def euler_maruyama(S0, r, sigma, T, M):\n",
    "    dt = T / M\n",
    "    paths = [S0]\n",
    "    for _ in range(M):\n",
    "        Z = np.random.normal()\n",
    "        S_next = paths[-1] * np.exp((r - 0.5 * sigma**2) * dt + sigma * np.sqrt(dt) * Z)\n",
    "        paths.append(S_next)\n",
    "    return paths[-1]\n",
    "\n",
    "def generate_paths(M_level, num_paths):\n",
    "    return [euler_maruyama(S, r, vol, T, M_level) for _ in range(num_paths)]"
   ]
  },
  {
   "cell_type": "code",
   "execution_count": 13,
   "metadata": {},
   "outputs": [
    {
     "name": "stdout",
     "output_type": "stream",
     "text": [
      "[1, 2, 4, 8, 16]\n"
     ]
    }
   ],
   "source": [
    "print(M)"
   ]
  },
  {
   "cell_type": "code",
   "execution_count": 5,
   "metadata": {},
   "outputs": [
    {
     "name": "stderr",
     "output_type": "stream",
     "text": [
      "INFO:root:Before Level 0 - Memory usage: 61.6%\n",
      "INFO:qiskit.passmanager.base_tasks:Pass: ContainsInstruction - 0.02193 (ms)\n",
      "INFO:qiskit.passmanager.base_tasks:Pass: UnitarySynthesis - 0.01502 (ms)\n",
      "INFO:qiskit.passmanager.base_tasks:Pass: HighLevelSynthesis - 1.84011 (ms)\n",
      "INFO:qiskit.passmanager.base_tasks:Pass: BasisTranslator - 0.14997 (ms)\n",
      "INFO:qiskit.passmanager.base_tasks:Pass: ElidePermutations - 0.03195 (ms)\n",
      "INFO:qiskit.passmanager.base_tasks:Pass: RemoveDiagonalGatesBeforeMeasure - 0.04506 (ms)\n",
      "INFO:qiskit.passmanager.base_tasks:Pass: RemoveIdentityEquivalent - 0.07701 (ms)\n",
      "INFO:qiskit.passmanager.base_tasks:Pass: InverseCancellation - 0.17190 (ms)\n",
      "INFO:qiskit.passmanager.base_tasks:Pass: CommutativeCancellation - 0.19097 (ms)\n",
      "INFO:qiskit.passmanager.base_tasks:Pass: ConsolidateBlocks - 1.91903 (ms)\n",
      "INFO:qiskit.passmanager.base_tasks:Pass: Split2QUnitaries - 0.01884 (ms)\n",
      "INFO:qiskit.passmanager.base_tasks:Pass: UnitarySynthesis - 0.01574 (ms)\n",
      "INFO:qiskit.passmanager.base_tasks:Pass: HighLevelSynthesis - 0.62990 (ms)\n",
      "INFO:qiskit.passmanager.base_tasks:Pass: BasisTranslator - 0.17881 (ms)\n",
      "INFO:qiskit.passmanager.base_tasks:Pass: ConsolidateBlocks - 0.17095 (ms)\n",
      "INFO:qiskit.passmanager.base_tasks:Pass: UnitarySynthesis - 0.15092 (ms)\n",
      "INFO:qiskit.passmanager.base_tasks:Pass: Depth - 0.03123 (ms)\n",
      "INFO:qiskit.passmanager.base_tasks:Pass: FixedPoint - 0.01383 (ms)\n",
      "INFO:qiskit.passmanager.base_tasks:Pass: Size - 0.01311 (ms)\n",
      "INFO:qiskit.passmanager.base_tasks:Pass: FixedPoint - 0.02408 (ms)\n",
      "INFO:qiskit.passmanager.base_tasks:Pass: RemoveIdentityEquivalent - 0.02813 (ms)\n",
      "INFO:qiskit.passmanager.base_tasks:Pass: Optimize1qGatesDecomposition - 0.18263 (ms)\n",
      "INFO:qiskit.passmanager.base_tasks:Pass: CommutativeCancellation - 0.29802 (ms)\n",
      "INFO:qiskit.passmanager.base_tasks:Pass: GatesInBasis - 0.03791 (ms)\n",
      "INFO:qiskit.passmanager.base_tasks:Pass: Depth - 0.02360 (ms)\n",
      "INFO:qiskit.passmanager.base_tasks:Pass: FixedPoint - 0.01311 (ms)\n",
      "INFO:qiskit.passmanager.base_tasks:Pass: Size - 0.02098 (ms)\n",
      "INFO:qiskit.passmanager.base_tasks:Pass: FixedPoint - 0.01502 (ms)\n",
      "INFO:qiskit.passmanager.base_tasks:Pass: ContainsInstruction - 0.02217 (ms)\n",
      "INFO:qiskit.compiler.transpiler:Total Transpile Time - 313.95507 (ms)\n",
      "INFO:root:After Level 0 - Memory usage: 61.6%\n",
      "INFO:root:Before Level 1 - Memory usage: 61.6%\n",
      "INFO:qiskit.passmanager.base_tasks:Pass: ContainsInstruction - 0.01597 (ms)\n",
      "INFO:qiskit.passmanager.base_tasks:Pass: UnitarySynthesis - 0.01216 (ms)\n",
      "INFO:qiskit.passmanager.base_tasks:Pass: HighLevelSynthesis - 0.72384 (ms)\n",
      "INFO:qiskit.passmanager.base_tasks:Pass: BasisTranslator - 0.10967 (ms)\n",
      "INFO:qiskit.passmanager.base_tasks:Pass: ElidePermutations - 0.01097 (ms)\n",
      "INFO:qiskit.passmanager.base_tasks:Pass: RemoveDiagonalGatesBeforeMeasure - 0.01407 (ms)\n",
      "INFO:qiskit.passmanager.base_tasks:Pass: RemoveIdentityEquivalent - 0.03910 (ms)\n",
      "INFO:qiskit.passmanager.base_tasks:Pass: InverseCancellation - 0.09584 (ms)\n",
      "INFO:qiskit.passmanager.base_tasks:Pass: CommutativeCancellation - 0.03409 (ms)\n",
      "INFO:qiskit.passmanager.base_tasks:Pass: ConsolidateBlocks - 1.19019 (ms)\n",
      "INFO:qiskit.passmanager.base_tasks:Pass: Split2QUnitaries - 0.01192 (ms)\n",
      "INFO:qiskit.passmanager.base_tasks:Pass: UnitarySynthesis - 0.01192 (ms)\n",
      "INFO:qiskit.passmanager.base_tasks:Pass: HighLevelSynthesis - 0.55575 (ms)\n",
      "INFO:qiskit.passmanager.base_tasks:Pass: BasisTranslator - 0.11492 (ms)\n",
      "INFO:qiskit.passmanager.base_tasks:Pass: ConsolidateBlocks - 0.42796 (ms)\n",
      "INFO:qiskit.passmanager.base_tasks:Pass: UnitarySynthesis - 0.01192 (ms)\n",
      "INFO:qiskit.passmanager.base_tasks:Pass: Depth - 0.01812 (ms)\n",
      "INFO:qiskit.passmanager.base_tasks:Pass: FixedPoint - 0.10896 (ms)\n",
      "INFO:qiskit.passmanager.base_tasks:Pass: Size - 0.00834 (ms)\n",
      "INFO:qiskit.passmanager.base_tasks:Pass: FixedPoint - 0.00978 (ms)\n",
      "INFO:qiskit.passmanager.base_tasks:Pass: RemoveIdentityEquivalent - 0.02909 (ms)\n",
      "INFO:qiskit.passmanager.base_tasks:Pass: Optimize1qGatesDecomposition - 0.36311 (ms)\n",
      "INFO:qiskit.passmanager.base_tasks:Pass: CommutativeCancellation - 0.44799 (ms)\n",
      "INFO:qiskit.passmanager.base_tasks:Pass: GatesInBasis - 0.04196 (ms)\n",
      "INFO:qiskit.passmanager.base_tasks:Pass: Depth - 0.01812 (ms)\n",
      "INFO:qiskit.passmanager.base_tasks:Pass: FixedPoint - 0.01001 (ms)\n",
      "INFO:qiskit.passmanager.base_tasks:Pass: Size - 0.00691 (ms)\n",
      "INFO:qiskit.passmanager.base_tasks:Pass: FixedPoint - 0.04578 (ms)\n",
      "INFO:qiskit.passmanager.base_tasks:Pass: ContainsInstruction - 0.01192 (ms)\n",
      "INFO:qiskit.compiler.transpiler:Total Transpile Time - 241.00089 (ms)\n",
      "INFO:root:After Level 1 - Memory usage: 61.6%\n",
      "INFO:root:Before Level 2 - Memory usage: 61.6%\n",
      "INFO:qiskit.passmanager.base_tasks:Pass: ContainsInstruction - 0.02599 (ms)\n",
      "INFO:qiskit.passmanager.base_tasks:Pass: UnitarySynthesis - 0.01192 (ms)\n",
      "INFO:qiskit.passmanager.base_tasks:Pass: HighLevelSynthesis - 0.78487 (ms)\n",
      "INFO:qiskit.passmanager.base_tasks:Pass: BasisTranslator - 0.22817 (ms)\n",
      "INFO:qiskit.passmanager.base_tasks:Pass: ElidePermutations - 0.01216 (ms)\n",
      "INFO:qiskit.passmanager.base_tasks:Pass: RemoveDiagonalGatesBeforeMeasure - 0.01383 (ms)\n",
      "INFO:qiskit.passmanager.base_tasks:Pass: RemoveIdentityEquivalent - 0.06175 (ms)\n",
      "INFO:qiskit.passmanager.base_tasks:Pass: InverseCancellation - 0.16999 (ms)\n",
      "INFO:qiskit.passmanager.base_tasks:Pass: CommutativeCancellation - 0.24295 (ms)\n",
      "INFO:qiskit.passmanager.base_tasks:Pass: ConsolidateBlocks - 1.26886 (ms)\n",
      "INFO:qiskit.passmanager.base_tasks:Pass: Split2QUnitaries - 0.01192 (ms)\n",
      "INFO:qiskit.passmanager.base_tasks:Pass: UnitarySynthesis - 0.01311 (ms)\n",
      "INFO:qiskit.passmanager.base_tasks:Pass: HighLevelSynthesis - 0.81682 (ms)\n",
      "INFO:qiskit.passmanager.base_tasks:Pass: BasisTranslator - 0.22411 (ms)\n",
      "INFO:qiskit.passmanager.base_tasks:Pass: ConsolidateBlocks - 0.55599 (ms)\n",
      "INFO:qiskit.passmanager.base_tasks:Pass: UnitarySynthesis - 0.01097 (ms)\n",
      "INFO:qiskit.passmanager.base_tasks:Pass: Depth - 0.01931 (ms)\n",
      "INFO:qiskit.passmanager.base_tasks:Pass: FixedPoint - 0.01287 (ms)\n",
      "INFO:qiskit.passmanager.base_tasks:Pass: Size - 0.01383 (ms)\n",
      "INFO:qiskit.passmanager.base_tasks:Pass: FixedPoint - 0.01001 (ms)\n",
      "INFO:qiskit.passmanager.base_tasks:Pass: RemoveIdentityEquivalent - 0.02694 (ms)\n",
      "INFO:qiskit.passmanager.base_tasks:Pass: Optimize1qGatesDecomposition - 0.17619 (ms)\n",
      "INFO:qiskit.passmanager.base_tasks:Pass: CommutativeCancellation - 0.07224 (ms)\n",
      "INFO:qiskit.passmanager.base_tasks:Pass: GatesInBasis - 0.01407 (ms)\n",
      "INFO:qiskit.passmanager.base_tasks:Pass: Depth - 0.03934 (ms)\n",
      "INFO:qiskit.passmanager.base_tasks:Pass: FixedPoint - 0.00882 (ms)\n",
      "INFO:qiskit.passmanager.base_tasks:Pass: Size - 0.00787 (ms)\n",
      "INFO:qiskit.passmanager.base_tasks:Pass: FixedPoint - 0.06104 (ms)\n",
      "INFO:qiskit.passmanager.base_tasks:Pass: ContainsInstruction - 0.01478 (ms)\n",
      "INFO:qiskit.compiler.transpiler:Total Transpile Time - 248.37399 (ms)\n",
      "INFO:root:After Level 2 - Memory usage: 61.6%\n",
      "INFO:root:Before Level 3 - Memory usage: 61.6%\n",
      "INFO:qiskit.passmanager.base_tasks:Pass: ContainsInstruction - 0.01311 (ms)\n",
      "INFO:qiskit.passmanager.base_tasks:Pass: UnitarySynthesis - 0.01121 (ms)\n",
      "INFO:qiskit.passmanager.base_tasks:Pass: HighLevelSynthesis - 0.61226 (ms)\n",
      "INFO:qiskit.passmanager.base_tasks:Pass: BasisTranslator - 0.39697 (ms)\n",
      "INFO:qiskit.passmanager.base_tasks:Pass: ElidePermutations - 0.01311 (ms)\n",
      "INFO:qiskit.passmanager.base_tasks:Pass: RemoveDiagonalGatesBeforeMeasure - 0.05698 (ms)\n",
      "INFO:qiskit.passmanager.base_tasks:Pass: RemoveIdentityEquivalent - 0.13995 (ms)\n",
      "INFO:qiskit.passmanager.base_tasks:Pass: InverseCancellation - 0.13638 (ms)\n",
      "INFO:qiskit.passmanager.base_tasks:Pass: CommutativeCancellation - 0.05412 (ms)\n",
      "INFO:qiskit.passmanager.base_tasks:Pass: ConsolidateBlocks - 1.36614 (ms)\n",
      "INFO:qiskit.passmanager.base_tasks:Pass: Split2QUnitaries - 0.01287 (ms)\n",
      "INFO:qiskit.passmanager.base_tasks:Pass: UnitarySynthesis - 0.01311 (ms)\n",
      "INFO:qiskit.passmanager.base_tasks:Pass: HighLevelSynthesis - 0.87762 (ms)\n",
      "INFO:qiskit.passmanager.base_tasks:Pass: BasisTranslator - 0.17118 (ms)\n",
      "INFO:qiskit.passmanager.base_tasks:Pass: ConsolidateBlocks - 0.17810 (ms)\n",
      "INFO:qiskit.passmanager.base_tasks:Pass: UnitarySynthesis - 0.01526 (ms)\n",
      "INFO:qiskit.passmanager.base_tasks:Pass: Depth - 0.02599 (ms)\n",
      "INFO:qiskit.passmanager.base_tasks:Pass: FixedPoint - 0.01907 (ms)\n",
      "INFO:qiskit.passmanager.base_tasks:Pass: Size - 0.01431 (ms)\n",
      "INFO:qiskit.passmanager.base_tasks:Pass: FixedPoint - 0.01097 (ms)\n",
      "INFO:qiskit.passmanager.base_tasks:Pass: RemoveIdentityEquivalent - 0.04411 (ms)\n",
      "INFO:qiskit.passmanager.base_tasks:Pass: Optimize1qGatesDecomposition - 0.29397 (ms)\n",
      "INFO:qiskit.passmanager.base_tasks:Pass: CommutativeCancellation - 0.17428 (ms)\n",
      "INFO:qiskit.passmanager.base_tasks:Pass: GatesInBasis - 0.01478 (ms)\n",
      "INFO:qiskit.passmanager.base_tasks:Pass: Depth - 0.01812 (ms)\n",
      "INFO:qiskit.passmanager.base_tasks:Pass: FixedPoint - 0.01121 (ms)\n",
      "INFO:qiskit.passmanager.base_tasks:Pass: Size - 0.00906 (ms)\n",
      "INFO:qiskit.passmanager.base_tasks:Pass: FixedPoint - 0.01121 (ms)\n",
      "INFO:qiskit.passmanager.base_tasks:Pass: ContainsInstruction - 0.01407 (ms)\n",
      "INFO:qiskit.compiler.transpiler:Total Transpile Time - 312.51502 (ms)\n",
      "INFO:root:After Level 3 - Memory usage: 61.6%\n",
      "INFO:root:Before Level 4 - Memory usage: 61.6%\n",
      "INFO:qiskit.passmanager.base_tasks:Pass: ContainsInstruction - 0.01311 (ms)\n",
      "INFO:qiskit.passmanager.base_tasks:Pass: UnitarySynthesis - 0.02027 (ms)\n",
      "INFO:qiskit.passmanager.base_tasks:Pass: HighLevelSynthesis - 0.86308 (ms)\n",
      "INFO:qiskit.passmanager.base_tasks:Pass: BasisTranslator - 0.33188 (ms)\n",
      "INFO:qiskit.passmanager.base_tasks:Pass: ElidePermutations - 0.01574 (ms)\n",
      "INFO:qiskit.passmanager.base_tasks:Pass: RemoveDiagonalGatesBeforeMeasure - 0.01502 (ms)\n",
      "INFO:qiskit.passmanager.base_tasks:Pass: RemoveIdentityEquivalent - 0.05198 (ms)\n",
      "INFO:qiskit.passmanager.base_tasks:Pass: InverseCancellation - 0.12994 (ms)\n",
      "INFO:qiskit.passmanager.base_tasks:Pass: CommutativeCancellation - 0.06700 (ms)\n",
      "INFO:qiskit.passmanager.base_tasks:Pass: ConsolidateBlocks - 1.36209 (ms)\n",
      "INFO:qiskit.passmanager.base_tasks:Pass: Split2QUnitaries - 0.01693 (ms)\n",
      "INFO:qiskit.passmanager.base_tasks:Pass: UnitarySynthesis - 0.01526 (ms)\n",
      "INFO:qiskit.passmanager.base_tasks:Pass: HighLevelSynthesis - 1.27006 (ms)\n",
      "INFO:qiskit.passmanager.base_tasks:Pass: BasisTranslator - 0.17023 (ms)\n",
      "INFO:qiskit.passmanager.base_tasks:Pass: ConsolidateBlocks - 0.18787 (ms)\n",
      "INFO:qiskit.passmanager.base_tasks:Pass: UnitarySynthesis - 0.13900 (ms)\n",
      "INFO:qiskit.passmanager.base_tasks:Pass: Depth - 0.02789 (ms)\n",
      "INFO:qiskit.passmanager.base_tasks:Pass: FixedPoint - 0.01597 (ms)\n",
      "INFO:qiskit.passmanager.base_tasks:Pass: Size - 0.00930 (ms)\n",
      "INFO:qiskit.passmanager.base_tasks:Pass: FixedPoint - 0.05102 (ms)\n",
      "INFO:qiskit.passmanager.base_tasks:Pass: RemoveIdentityEquivalent - 0.02885 (ms)\n",
      "INFO:qiskit.passmanager.base_tasks:Pass: Optimize1qGatesDecomposition - 0.15807 (ms)\n",
      "INFO:qiskit.passmanager.base_tasks:Pass: CommutativeCancellation - 0.14496 (ms)\n",
      "INFO:qiskit.passmanager.base_tasks:Pass: GatesInBasis - 0.01311 (ms)\n",
      "INFO:qiskit.passmanager.base_tasks:Pass: Depth - 0.01693 (ms)\n",
      "INFO:qiskit.passmanager.base_tasks:Pass: FixedPoint - 0.01001 (ms)\n",
      "INFO:qiskit.passmanager.base_tasks:Pass: Size - 0.00787 (ms)\n",
      "INFO:qiskit.passmanager.base_tasks:Pass: FixedPoint - 0.01001 (ms)\n",
      "INFO:qiskit.passmanager.base_tasks:Pass: ContainsInstruction - 0.01574 (ms)\n",
      "INFO:qiskit.compiler.transpiler:Total Transpile Time - 235.73303 (ms)\n",
      "INFO:root:After Level 4 - Memory usage: 61.6%\n"
     ]
    }
   ],
   "source": [
    "# Compute payoffs and differences\n",
    "payoffs, differences = {}, {}\n",
    "for level in range(levels):\n",
    "    paths = generate_paths(M[level], num_paths)\n",
    "    payoffs[level] = [max(0, path - strike_price) for path in paths]\n",
    "    if level > 0:\n",
    "        differences[level] = np.array(payoffs[level]) - np.array(payoffs[level - 1])\n",
    "\n",
    "# Initialize AerSimulator without passing it to the Sampler\n",
    "simulator = AerSimulator()\n",
    "\n",
    "# Initialize the Sampler correctly\n",
    "sampler = Sampler(run_options={\"shots\": 100})\n",
    "quantum_estimates = []\n",
    "\n",
    "for level in range(levels):\n",
    "    try:\n",
    "        log_memory_usage(f\"Before Level {level}\")\n",
    "        data = payoffs[level] if level == 0 else differences[level]\n",
    "\n",
    "        problem = EstimationProblem(\n",
    "            state_preparation=uncertainty_model,\n",
    "            objective_qubits=[num_uncertainty_qubits -1],\n",
    "            post_processing=lambda x: np.mean(data),\n",
    "        )\n",
    "        ae = IterativeAmplitudeEstimation(\n",
    "            epsilon_target=0.15,\n",
    "            alpha=0.05,\n",
    "            sampler=sampler,\n",
    "        )\n",
    "        result = ae.estimate(problem)\n",
    "        quantum_estimates.append(result.estimation_processed)\n",
    "        log_memory_usage(f\"After Level {level}\")\n",
    "    except MemoryError as e:\n",
    "        logging.error(f\"MemoryError at level {level}: {e}\")\n",
    "        break\n",
    "    except Exception as e:\n",
    "        logging.error(f\"Error at level {level}: {e}\")\n",
    "        quantum_estimates.append(None)\n",
    "\n",
    "# Combine estimates using MLMC telescoping sum\n",
    "mlmc_estimate = sum(filter(None, quantum_estimates))"
   ]
  },
  {
   "cell_type": "code",
   "execution_count": 6,
   "metadata": {},
   "outputs": [
    {
     "name": "stdout",
     "output_type": "stream",
     "text": [
      "Black-Scholes Price: 0.10810752824797865\n",
      "MLMC Quantum Estimate: 0.11740240370888964\n"
     ]
    },
    {
     "data": {
      "image/png": "[encoded data removed]",
      "text/plain": [
       "<Figure size 432x288 with 1 Axes>"
      ]
     },
     "metadata": {
      "needs_background": "light"
     },
     "output_type": "display_data"
    }
   ],
   "source": [
    "# Compare with Black-Scholes Price\n",
    "def black_scholes(S, sigma, r, T, K):\n",
    "    d1 = (np.log(S / K) + (r + 0.5 * sigma**2) * T) / (sigma * np.sqrt(T))\n",
    "    d2 = d1 - sigma * np.sqrt(T)\n",
    "    return S * stats.norm.cdf(d1) - K * np.exp(-r * T) * stats.norm.cdf(d2)\n",
    "\n",
    "bs_price = black_scholes(S, vol, r, T, strike_price)\n",
    "print(f\"Black-Scholes Price: {bs_price}\")\n",
    "print(f\"MLMC Quantum Estimate: {mlmc_estimate}\")\n",
    "\n",
    "# Step 8: Error Analysis\n",
    "errors = [abs(bs_price - q) if q is not None else None for q in quantum_estimates]\n",
    "plt.plot(range(levels), errors, \"bo-\")\n",
    "plt.grid()\n",
    "plt.xlabel(\"Level\")\n",
    "plt.ylabel(\"Absolute Error\")\n",
    "plt.title(\"Error Analysis: Quantum MLMC vs Black-Scholes\")\n",
    "plt.show()\n"
   ]
  },
  {
   "cell_type": "code",
   "execution_count": 7,
   "metadata": {},
   "outputs": [
    {
     "data": {
      "image/png": "[encoded data removed]",
      "text/plain": [
       "<Figure size 432x288 with 1 Axes>"
      ]
     },
     "metadata": {
      "needs_background": "light"
     },
     "output_type": "display_data"
    }
   ],
   "source": [
    "\n",
    "# Plot the log-normal distribution\n",
    "x = uncertainty_model.values\n",
    "y = uncertainty_model.probabilities\n",
    "plt.bar(x, y, width=0.2)\n",
    "plt.grid()\n",
    "plt.xlabel(\"Spot Price at Maturity $S_T$ (\\$)\", size=15)\n",
    "plt.ylabel(\"Probability (%)\", size=15)\n",
    "plt.title(\"Log-Normal Distribution\", size=15)\n",
    "plt.show()\n"
   ]
  },
  {
   "cell_type": "code",
   "execution_count": 8,
   "metadata": {},
   "outputs": [],
   "source": [
    "# Core Libraries\n",
    "import numpy as np\n",
    "import matplotlib.pyplot as plt\n",
    "import pandas as pd\n",
    "import scipy.stats as stats\n",
    "import time\n",
    "import logging\n",
    "import psutil  # For memory usage monitoring (optional)\n",
    "\n",
    "# Qiskit Libraries\n",
    "from qiskit import QuantumCircuit, transpile\n",
    "from qiskit.circuit.library import LinearAmplitudeFunction\n",
    "from qiskit_aer import AerSimulator\n",
    "from qiskit_aer.primitives import Sampler\n",
    "from qiskit_algorithms import IterativeAmplitudeEstimation, EstimationProblem\n",
    "from qiskit_finance.circuit.library import LogNormalDistribution\n"
   ]
  },
  {
   "cell_type": "code",
   "execution_count": 9,
   "metadata": {},
   "outputs": [
    {
     "name": "stdout",
     "output_type": "stream",
     "text": [
      "7\n"
     ]
    }
   ],
   "source": [
    "# Ensure total number of qubits includes ancillae\n",
    "total_qubits = european_call_objective.num_qubits\n",
    "quantum_circuit = QuantumCircuit(total_qubits)\n",
    "print(total_qubits)"
   ]
  },
  {
   "cell_type": "code",
   "execution_count": 10,
   "metadata": {},
   "outputs": [
    {
     "name": "stdout",
     "output_type": "stream",
     "text": [
      "Quantum Circuit for European Call Option:\n"
     ]
    },
    {
     "data": {
      "image/png": "[encoded data removed]",
      "text/plain": [
       "<Figure size 206.997x445.48 with 1 Axes>"
      ]
     },
     "execution_count": 10,
     "metadata": {},
     "output_type": "execute_result"
    }
   ],
   "source": [
    "\n",
    "\n",
    "# Append components with correct qubit ranges\n",
    "quantum_circuit.append(uncertainty_model, range(num_uncertainty_qubits))\n",
    "quantum_circuit.append(european_call_objective, range(total_qubits))\n",
    "\n",
    "\n",
    "print(\"Quantum Circuit for European Call Option:\")\n",
    "quantum_circuit.draw(output='mpl')  \n"
   ]
  },
  {
   "cell_type": "markdown",
   "metadata": {},
   "source": [
    "# Monte Carlo Algo"
   ]
  },
  {
   "cell_type": "code",
   "execution_count": 11,
   "metadata": {},
   "outputs": [],
   "source": [
    "import numpy as np\n",
    "import time\n",
    "\n",
    "def monte_carlo_european_call(S, K, r, sigma, T, num_paths):\n",
    "    np.random.seed(42)  # For reproducibility\n",
    "    dt = T\n",
    "    Z = np.random.normal(size=num_paths)\n",
    "    S_T = S * np.exp((r - 0.5 * sigma**2) * dt + sigma * np.sqrt(dt) * Z)\n",
    "    payoffs = np.maximum(S_T - K, 0)\n",
    "    discounted_payoff = np.exp(-r * T) * np.mean(payoffs)\n",
    "    return discounted_payoff\n"
   ]
  },
  {
   "cell_type": "markdown",
   "metadata": {},
   "source": [
    "# Runtime comparison between Monte Carlo and Q MLMC Algo"
   ]
  },
  {
   "cell_type": "code",
   "execution_count": 20,
   "metadata": {},
   "outputs": [
    {
     "name": "stdout",
     "output_type": "stream",
     "text": [
      "             Algorithm  Price Estimate  Runtime (seconds)\n",
      "0          Monte Carlo        0.108729           0.000621\n",
      "1  Quantum Monte Carlo        0.117402           0.000064\n"
     ]
    }
   ],
   "source": [
    "# Define parameters\n",
    "S, K, r, sigma, T = 2, 2, 0.04, 0.1, 300/365\n",
    "num_paths = 1000  # Number of Monte Carlo simulations\n",
    "\n",
    "\n",
    "# Measure runtime and calculate prices\n",
    "# Monte Carlo\n",
    "start = time.time()\n",
    "mc_price = monte_carlo_european_call(S, K, r, sigma, T, num_paths)\n",
    "mc_runtime = time.time() - start\n",
    "\n",
    "# Quantum Monte Carlo (assumed implemented earlier)\n",
    "start = time.time()\n",
    "qmc_price = mlmc_estimate  # Assuming `mlmc_estimate` from quantum algorithm\n",
    "qmc_runtime = time.time() - start\n",
    "\n",
    "# Create a comparison table\n",
    "import pandas as pd\n",
    "\n",
    "results = pd.DataFrame({\n",
    "    \"Algorithm\": [\"Monte Carlo\", \"Quantum Monte Carlo\"],\n",
    "    \"Price Estimate\": [mc_price, qmc_price],\n",
    "    \"Runtime (seconds)\": [mc_runtime,  qmc_runtime]\n",
    "})\n",
    "\n",
    "print(results)"
   ]
  },
  {
   "cell_type": "markdown",
   "metadata": {},
   "source": [
    "The runtime for the quantum Algorithm is 100 times faster which is logic since our epsilon target is :  0.15. "
   ]
  },
  {
   "cell_type": "markdown",
   "metadata": {},
   "source": []
  }
 ],
 "metadata": {
  "kernelspec": {
   "display_name": "base",
   "language": "python",
   "name": "python3"
  },
  "language_info": {
   "codemirror_mode": {
    "name": "ipython",
    "version": 3
   },
   "file_extension": ".py",
   "mimetype": "text/x-python",
   "name": "python",
   "nbconvert_exporter": "python",
   "pygments_lexer": "ipython3",
   "version": "3.9.12"
  }
 },
 "nbformat": 4,
 "nbformat_minor": 2
}
